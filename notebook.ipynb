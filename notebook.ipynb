{
 "cells": [
  {
   "cell_type": "code",
   "execution_count": null,
   "metadata": {},
   "outputs": [],
   "source": [
    "import os\n",
    "\n",
    "# os.environ[\"OPENAI_API_KEY\"] = \"your_openai_api_key_here\"\n"
   ]
  },
  {
   "cell_type": "code",
   "execution_count": null,
   "metadata": {},
   "outputs": [
    {
     "name": "stdout",
     "output_type": "stream",
     "text": [
      "Hello! How can I assist you with your Leadership Skills course today? If you have any questions or need guidance on specific topics, feel free to ask.\n"
     ]
    }
   ],
   "source": [
    "from llama_index.indices.managed.llama_cloud import LlamaCloudIndex\n",
    "from llama_index.core.prompts import ChatPromptTemplate, ChatMessage, MessageRole\n",
    "from llama_index.llms.openai import OpenAI\n",
    "from llama_index.core.agent.workflow import FunctionAgent\n",
    "from llama_index.core.tools import QueryEngineTool\n",
    "\n",
    "# 1. Setup your index (already uploaded in LlamaCloud)\n",
    "index = LlamaCloudIndex(\n",
    "    name=\"vishal-pdf-parsing\",\n",
    "    project_name=\"Default\",\n",
    "    organization_id=\"4da7e57b-20d4-41d7-beae-de099617d5a0\",\n",
    "    api_key=\"llx-XZl46JFhSu4w33ZjvvlLQSi8vc0SlGAHzcDzdCAY5WCNsyDZ\",\n",
    ")\n",
    "\n",
    "# 2. Setup the retriever and query engine (according to your UI settings)\n",
    "retriever = index.as_retriever(\n",
    "    search_type=\"default\",\n",
    "    search_kwargs={\n",
    "        \"similarity_top_k\": 30,\n",
    "        \"node_types\": [\"chunk\"],\n",
    "        \"rerank\": True,\n",
    "        \"rerank_top_n\": 6,\n",
    "        \"filter_mode\": \"accurate\",\n",
    "        \"multimodal\": False,\n",
    "        \"filter_condition\": {\n",
    "            \"operator\": \"AND\",\n",
    "            \"filters\": []  # Add metadata filters if needed\n",
    "        }\n",
    "    }\n",
    ")\n",
    "\n",
    "system_prompt = \"\"\"You are a virtual mentor for a Leadership Skills, taught by Professor Vishal Gupta from IIM Ahmedabad. Your role is to provide comprehensive, accurate, and relevant answers to questions about leadership skills, Adhere to the following guidelines:\n",
    "\n",
    "1. **Exclusive Use of Course Content**: Use ONLY the information provided in the course transcripts. Do not use external knowledge or sources.\n",
    "2. **Accurate Reference**: Always include the relevant week and topic title(s) in your answer, formatting it as: [Week X: Topic Title].\n",
    "3. **Handling Unanswerable Questions**: If the question cannot be answered using the provided transcripts, state this clearly.\n",
    "4. **Strict Non-Inference Policy**: Do not infer information not explicitly stated in the provided content.\n",
    "5. **Structured and Clear Responses**: Ensure your responses are well-structured and directly quote from the transcript when appropriate.\n",
    "6. **Mentor-like Tone**: Phrase your responses as a supportive virtual mentor, offering guidance and insights based on the course material.\n",
    "7. **Comprehensive Answers**: Provide thorough answers, elaborating on key points and connecting ideas from different parts of the course when relevant.\n",
    "8. **Consistency**: Maintain consistency in style and adherence to the guidelines throughout your responses.\n",
    "\n",
    "Remember, accuracy and relevance to the provided course content are paramount.\"\"\"\n",
    "\n",
    "message_templates = [\n",
    "    ChatMessage(role=MessageRole.SYSTEM, content=system_prompt),\n",
    "    ChatMessage(\n",
    "        role=MessageRole.USER,\n",
    "        content=(\n",
    "            \"Context information is below.\\n\"\n",
    "            \"---------------------\\n\"\n",
    "            \"{context_str}\\n\"\n",
    "            \"---------------------\\n\"\n",
    "            \"Given the context information and not prior knowledge, \"\n",
    "            \"answer the query using chain-of-thought reasoning: {query_str}\\n\"\n",
    "        ),\n",
    "    ),\n",
    "]\n",
    "custom_prompt = ChatPromptTemplate(message_templates=message_templates)\n",
    "\n",
    "llm = OpenAI(model=\"gpt-4o\", temperature=0.1)\n",
    "\n",
    "from llama_index.core.query_engine import RetrieverQueryEngine\n",
    "query_engine = RetrieverQueryEngine.from_args(\n",
    "    retriever=retriever,\n",
    "    llm=llm,\n",
    "    prompt=custom_prompt,\n",
    "    chain_of_thought=True,\n",
    ")\n",
    "\n",
    "# 3. Wrap your query engine as a tool\n",
    "query_engine_tool = QueryEngineTool.from_defaults(\n",
    "    query_engine=query_engine,\n",
    "    name=\"query_engine_tool\",\n",
    "    description=\"Tool for querying the Leadership Skills course index.\",\n",
    "    return_direct=True,  # Set True to return tool output directly\n",
    ")\n",
    "\n",
    "# 4. Create an agent with the tool\n",
    "agent = FunctionAgent(\n",
    "    name=\"Vishal gupta's AI Mentor\",\n",
    "    description=\"\"\"You are a virtual mentor for a Leadership Skills, taught by Professor Vishal Gupta from IIM Ahmedabad. Your role is to provide comprehensive, accurate, and relevant answers to questions about leadership skills, Adhere to the following guidelines:\n",
    "\n",
    "        1. **Exclusive Use of Course Content**: Use ONLY the information provided in the course transcripts. Do not use external knowledge or sources.\n",
    "        2. **Accurate Reference**: Always include the relevant week and topic title(s) in your answer, formatting it as: [Week X: Topic Title].\n",
    "        3. **Handling Unanswerable Questions**: If the question cannot be answered using the provided transcripts, state this clearly.\n",
    "        4. **Strict Non-Inference Policy**: Do not infer information not explicitly stated in the provided content.\n",
    "        5. **Structured and Clear Responses**: Ensure your responses are well-structured and directly quote from the transcript when appropriate.\n",
    "        6. **Mentor-like Tone**: Phrase your responses as a supportive virtual mentor, offering guidance and insights based on the course material.\n",
    "        7. **Comprehensive Answers**: Provide thorough answers, elaborating on key points and connecting ideas from different parts of the course when relevant.\n",
    "        8. **Consistency**: Maintain consistency in style and adherence to the guidelines throughout your responses.\n",
    "\n",
    "        Remember, accuracy and relevance to the provided course content are paramount.\"\"\",\n",
    "    tools=[query_engine_tool],\n",
    "    llm=llm,\n",
    "    system_prompt=system_prompt,\n",
    ")\n",
    "\n",
    "# 5. Run the agent with a user question\n",
    "import asyncio\n",
    "\n",
    "response = await agent.run(\"Hi\")\n",
    "print(response)\n",
    "\n",
    "\n",
    "# if __name__ == \"__main__\":\n",
    "#     asyncio.run(main())\n"
   ]
  },
  {
   "cell_type": "code",
   "execution_count": 5,
   "metadata": {},
   "outputs": [
    {
     "name": "stdout",
     "output_type": "stream",
     "text": [
      "Hello! How can I assist you with your Leadership Skills course today? If you have any questions or need guidance on specific topics, feel free to ask.\n"
     ]
    }
   ],
   "source": [
    "print(response)\n"
   ]
  },
  {
   "cell_type": "code",
   "execution_count": 6,
   "metadata": {},
   "outputs": [
    {
     "data": {
      "text/plain": [
       "AgentOutput(response=ChatMessage(role=<MessageRole.ASSISTANT: 'assistant'>, additional_kwargs={}, blocks=[TextBlock(block_type='text', text='Hello! How can I assist you with your Leadership Skills course today? If you have any questions or need guidance on specific topics, feel free to ask.')]), tool_calls=[], raw={'id': 'chatcmpl-BcBCCsv2Pz71vrZ3dLCeAZWyHmJae', 'choices': [{'delta': {'content': None, 'function_call': None, 'refusal': None, 'role': None, 'tool_calls': None}, 'finish_reason': 'stop', 'index': 0, 'logprobs': None}], 'created': 1748439200, 'model': 'gpt-4o-2024-08-06', 'object': 'chat.completion.chunk', 'service_tier': 'default', 'system_fingerprint': 'fp_07871e2ad8', 'usage': None}, current_agent_name='Leadership Skills Mentor')"
      ]
     },
     "execution_count": 6,
     "metadata": {},
     "output_type": "execute_result"
    }
   ],
   "source": [
    "response\n"
   ]
  },
  {
   "cell_type": "code",
   "execution_count": null,
   "metadata": {},
   "outputs": [
    {
     "name": "stdout",
     "output_type": "stream",
     "text": [
      "Under a velvet sky, a gentle unicorn tiptoed through a starlit meadow, weaving dreams of magic and moonbeams for every sleeping child.\n"
     ]
    }
   ],
   "source": [
    "from openai import OpenAI\n",
    "client = OpenAI()\n",
    "\n",
    "response = client.responses.create(\n",
    "    model=\"gpt-4.1\",\n",
    "    input=\"Write a one-sentence bedtime story about a unicorn.\"\n",
    ")\n",
    "\n",
    "print(response.output_text)"
   ]
  },
  {
   "cell_type": "code",
   "execution_count": null,
   "metadata": {},
   "outputs": [],
   "source": []
  }
 ],
 "metadata": {
  "kernelspec": {
   "display_name": "Environment",
   "language": "python",
   "name": "python3"
  },
  "language_info": {
   "codemirror_mode": {
    "name": "ipython",
    "version": 3
   },
   "file_extension": ".py",
   "mimetype": "text/x-python",
   "name": "python",
   "nbconvert_exporter": "python",
   "pygments_lexer": "ipython3",
   "version": "3.11.0"
  }
 },
 "nbformat": 4,
 "nbformat_minor": 2
}
